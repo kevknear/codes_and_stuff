{
 "cells": [
  {
   "cell_type": "code",
   "execution_count": 1,
   "metadata": {},
   "outputs": [],
   "source": [
    "import pandas as pd"
   ]
  },
  {
   "cell_type": "code",
   "execution_count": 2,
   "metadata": {},
   "outputs": [],
   "source": [
    "import openpyxl"
   ]
  },
  {
   "cell_type": "code",
   "execution_count": 73,
   "metadata": {},
   "outputs": [],
   "source": [
    "import json\n",
    "from pandas.io.json import json_normalize"
   ]
  },
  {
   "cell_type": "code",
   "execution_count": 27,
   "metadata": {},
   "outputs": [],
   "source": [
    "import warnings\n",
    "warnings.filterwarnings(\"ignore\")\n",
    "import sys\n",
    "print(sys.executable)\n",
    "print(sys.version)\n",
    "print(sys.version_info)"
   ]
  },
  {
   "cell_type": "code",
   "execution_count": 3,
   "metadata": {},
   "outputs": [
    {
     "data": {
      "text/plain": [
       "'Downloads/datos_municipales_mx-master/datos_municipales_mx-master/datos/siha_2_2_4_2.xlsx'"
      ]
     },
     "execution_count": 3,
     "metadata": {},
     "output_type": "execute_result"
    }
   ],
   "source": [
    "('Downloads/datos_municipales_mx-master/datos_municipales_mx-master/datos/siha_2_2_4_2.xlsx')"
   ]
  },
  {
   "cell_type": "code",
   "execution_count": 4,
   "metadata": {},
   "outputs": [],
   "source": [
    "from openpyxl import Workbook\n",
    "\n",
    "workbook = Workbook()\n",
    "sheet = workbook.active\n",
    "\n",
    "sheet[\"A1\"] = \"hello\"\n",
    "sheet[\"B1\"] = \"world!\"\n",
    "\n",
    "workbook.save(filename=\"hello_world.xlsx\")"
   ]
  },
  {
   "cell_type": "code",
   "execution_count": 5,
   "metadata": {},
   "outputs": [
    {
     "data": {
      "text/plain": [
       "'C:\\\\Users\\\\KNEAR\\\\Downloads\\\\datos_municipales_mx-master\\\\datos_municipales_mx-master\\\\datos'"
      ]
     },
     "execution_count": 5,
     "metadata": {},
     "output_type": "execute_result"
    }
   ],
   "source": []
  },
  {
   "cell_type": "code",
   "execution_count": 8,
   "metadata": {},
   "outputs": [],
   "source": [
    "from openpyxl import load_workbook"
   ]
  },
  {
   "cell_type": "code",
   "execution_count": 11,
   "metadata": {},
   "outputs": [],
   "source": [
    "workbook = load_workbook(filename=\"reviews-sample.xlsx\")\n"
   ]
  },
  {
   "cell_type": "code",
   "execution_count": 92,
   "metadata": {},
   "outputs": [
    {
     "data": {
      "text/plain": [
       "['amazon_reviews_us_Watches_v (2)', 'amazon']"
      ]
     },
     "execution_count": 92,
     "metadata": {},
     "output_type": "execute_result"
    }
   ],
   "source": [
    "workbook.sheetnames"
   ]
  },
  {
   "cell_type": "code",
   "execution_count": 13,
   "metadata": {},
   "outputs": [],
   "source": [
    "sheet = workbook.active"
   ]
  },
  {
   "cell_type": "code",
   "execution_count": 16,
   "metadata": {},
   "outputs": [
    {
     "data": {
      "text/plain": [
       "'amazon'"
      ]
     },
     "execution_count": 16,
     "metadata": {},
     "output_type": "execute_result"
    }
   ],
   "source": [
    "sheet.title"
   ]
  },
  {
   "cell_type": "code",
   "execution_count": 28,
   "metadata": {},
   "outputs": [],
   "source": [
    "sheet2 = workbook.get_sheet_by_name('amazon_reviews_us_Watches_v (2)')"
   ]
  },
  {
   "cell_type": "code",
   "execution_count": 29,
   "metadata": {},
   "outputs": [
    {
     "data": {
      "text/plain": [
       "'amazon_reviews_us_Watches_v (2)'"
      ]
     },
     "execution_count": 29,
     "metadata": {},
     "output_type": "execute_result"
    }
   ],
   "source": [
    "sheet2.title"
   ]
  },
  {
   "cell_type": "code",
   "execution_count": 30,
   "metadata": {},
   "outputs": [
    {
     "data": {
      "text/plain": [
       "<Cell 'amazon'.F10>"
      ]
     },
     "execution_count": 30,
     "metadata": {},
     "output_type": "execute_result"
    }
   ],
   "source": [
    "sheet.cell(row=10, column=6)"
   ]
  },
  {
   "cell_type": "code",
   "execution_count": 31,
   "metadata": {},
   "outputs": [
    {
     "data": {
      "text/plain": [
       "\"G-Shock Men's Grey Sport Watch\""
      ]
     },
     "execution_count": 31,
     "metadata": {},
     "output_type": "execute_result"
    }
   ],
   "source": [
    "sheet.cell(row=10, column=6).value"
   ]
  },
  {
   "cell_type": "code",
   "execution_count": 32,
   "metadata": {},
   "outputs": [
    {
     "data": {
      "text/plain": [
       "\"G-Shock Men's Grey Sport Watch\""
      ]
     },
     "execution_count": 32,
     "metadata": {},
     "output_type": "execute_result"
    }
   ],
   "source": [
    "sheet[\"F10\"].value"
   ]
  },
  {
   "cell_type": "code",
   "execution_count": 34,
   "metadata": {},
   "outputs": [
    {
     "name": "stdout",
     "output_type": "stream",
     "text": [
      "(<Cell 'amazon'.A1>, <Cell 'amazon'.B1>, <Cell 'amazon'.C1>)\n",
      "(<Cell 'amazon'.A2>, <Cell 'amazon'.B2>, <Cell 'amazon'.C2>)\n"
     ]
    }
   ],
   "source": [
    "for row in sheet.iter_rows(min_row=1,\n",
    "                            max_row=2,\n",
    "                            min_col=1,\n",
    "                            max_col=3):\n",
    "    print(row)"
   ]
  },
  {
   "cell_type": "code",
   "execution_count": 35,
   "metadata": {},
   "outputs": [
    {
     "name": "stdout",
     "output_type": "stream",
     "text": [
      "(<Cell 'amazon'.A1>, <Cell 'amazon'.A2>)\n",
      "(<Cell 'amazon'.B1>, <Cell 'amazon'.B2>)\n",
      "(<Cell 'amazon'.C1>, <Cell 'amazon'.C2>)\n"
     ]
    }
   ],
   "source": [
    "for col in sheet.iter_cols(min_row=1,\n",
    "                            max_row=2,\n",
    "                            min_col=1,\n",
    "                            max_col=3):\n",
    "    print(col)"
   ]
  },
  {
   "cell_type": "code",
   "execution_count": 45,
   "metadata": {},
   "outputs": [
    {
     "name": "stdout",
     "output_type": "stream",
     "text": [
      "('marketplace', 'customer_id', 'review_id')\n",
      "('US', 3653882, 'R3O9SGZBVQBV76')\n"
     ]
    }
   ],
   "source": [
    "for value in sheet.iter_rows(min_row=1,\n",
    "                            max_row=2,\n",
    "                            min_col=1,\n",
    "                            max_col=3,\n",
    "                           values_only=True):\n",
    "    print(value)"
   ]
  },
  {
   "cell_type": "code",
   "execution_count": 39,
   "metadata": {},
   "outputs": [
    {
     "name": "stdout",
     "output_type": "stream",
     "text": [
      "('marketplace', 'US')\n",
      "('customer_id', 3653882)\n",
      "('review_id', 'R3O9SGZBVQBV76')\n"
     ]
    }
   ],
   "source": [
    "for value in sheet.iter_cols(min_row=1,\n",
    "                            max_row=2,\n",
    "                            min_col=1,\n",
    "                            max_col=3,\n",
    "                          values_only=True):\n",
    "    print(value)"
   ]
  },
  {
   "cell_type": "code",
   "execution_count": 72,
   "metadata": {},
   "outputs": [],
   "source": [
    "# Using the values_only because you want to return the cells' values\n",
    "for row in sheet.iter_rows(min_row=2,\n",
    "                           min_col=4,\n",
    "                           max_col=7,\n",
    "                           values_only=True):\n",
    "#     print(row[0])\n",
    "    None"
   ]
  },
  {
   "cell_type": "code",
   "execution_count": 55,
   "metadata": {},
   "outputs": [
    {
     "name": "stdout",
     "output_type": "stream",
     "text": [
      "{\"B00FALQ1ZC\": {\"parent\": 937001370, \"title\": \"Invicta Women's 15150 \\\"Angel\\\" 18k Yellow Gold Ion-Plated Stainless Steel and Brown Leather Watch\", \"category\": \"Watches\"}, \"B00D3RGO20\": {\"parent\": 484010722, \"title\": \"Kenneth Cole New York Women's KC4944 Automatic Silver Automatic Mesh Bracelet Analog Watch\", \"category\": \"Watches\"}}\n"
     ]
    }
   ],
   "source": [
    "products = {}\n",
    "\n",
    "# Using the values_only because you want to return the cells' values\n",
    "for row in sheet.iter_rows(min_row=2,\n",
    "                           max_row=3,\n",
    "                           min_col=4,\n",
    "                           max_col=7,\n",
    "                           values_only=True):\n",
    "    product_id = row[0]\n",
    "    product = {\n",
    "        \"parent\": row[1],\n",
    "        \"title\": row[2],\n",
    "        \"category\": row[3]\n",
    "    }\n",
    "    products[product_id] = product\n",
    "\n",
    "# Using json here to be able to format the output for displaying later\n",
    "print(json.dumps(products))"
   ]
  },
  {
   "cell_type": "code",
   "execution_count": 56,
   "metadata": {},
   "outputs": [
    {
     "data": {
      "text/plain": [
       "{'B00FALQ1ZC': {'parent': 937001370,\n",
       "  'title': 'Invicta Women\\'s 15150 \"Angel\" 18k Yellow Gold Ion-Plated Stainless Steel and Brown Leather Watch',\n",
       "  'category': 'Watches'},\n",
       " 'B00D3RGO20': {'parent': 484010722,\n",
       "  'title': \"Kenneth Cole New York Women's KC4944 Automatic Silver Automatic Mesh Bracelet Analog Watch\",\n",
       "  'category': 'Watches'}}"
      ]
     },
     "execution_count": 56,
     "metadata": {},
     "output_type": "execute_result"
    }
   ],
   "source": [
    "products"
   ]
  },
  {
   "cell_type": "code",
   "execution_count": 68,
   "metadata": {},
   "outputs": [],
   "source": [
    "df = pd.DataFrame.from_dict(products, orient='columns')"
   ]
  },
  {
   "cell_type": "code",
   "execution_count": 71,
   "metadata": {},
   "outputs": [
    {
     "data": {
      "text/html": [
       "<div>\n",
       "<style scoped>\n",
       "    .dataframe tbody tr th:only-of-type {\n",
       "        vertical-align: middle;\n",
       "    }\n",
       "\n",
       "    .dataframe tbody tr th {\n",
       "        vertical-align: top;\n",
       "    }\n",
       "\n",
       "    .dataframe thead th {\n",
       "        text-align: right;\n",
       "    }\n",
       "</style>\n",
       "<table border=\"1\" class=\"dataframe\">\n",
       "  <thead>\n",
       "    <tr style=\"text-align: right;\">\n",
       "      <th></th>\n",
       "      <th>B00FALQ1ZC</th>\n",
       "      <th>B00D3RGO20</th>\n",
       "    </tr>\n",
       "  </thead>\n",
       "  <tbody>\n",
       "    <tr>\n",
       "      <td>parent</td>\n",
       "      <td>937001370</td>\n",
       "      <td>484010722</td>\n",
       "    </tr>\n",
       "    <tr>\n",
       "      <td>title</td>\n",
       "      <td>Invicta Women's 15150 \"Angel\" 18k Yellow Gold ...</td>\n",
       "      <td>Kenneth Cole New York Women's KC4944 Automatic...</td>\n",
       "    </tr>\n",
       "    <tr>\n",
       "      <td>category</td>\n",
       "      <td>Watches</td>\n",
       "      <td>Watches</td>\n",
       "    </tr>\n",
       "  </tbody>\n",
       "</table>\n",
       "</div>"
      ],
      "text/plain": [
       "                                                 B00FALQ1ZC  \\\n",
       "parent                                            937001370   \n",
       "title     Invicta Women's 15150 \"Angel\" 18k Yellow Gold ...   \n",
       "category                                            Watches   \n",
       "\n",
       "                                                 B00D3RGO20  \n",
       "parent                                            484010722  \n",
       "title     Kenneth Cole New York Women's KC4944 Automatic...  \n",
       "category                                            Watches  "
      ]
     },
     "execution_count": 71,
     "metadata": {},
     "output_type": "execute_result"
    }
   ],
   "source": [
    "df"
   ]
  },
  {
   "cell_type": "code",
   "execution_count": 70,
   "metadata": {},
   "outputs": [
    {
     "data": {
      "text/html": [
       "<div>\n",
       "<style scoped>\n",
       "    .dataframe tbody tr th:only-of-type {\n",
       "        vertical-align: middle;\n",
       "    }\n",
       "\n",
       "    .dataframe tbody tr th {\n",
       "        vertical-align: top;\n",
       "    }\n",
       "\n",
       "    .dataframe thead th {\n",
       "        text-align: right;\n",
       "    }\n",
       "</style>\n",
       "<table border=\"1\" class=\"dataframe\">\n",
       "  <thead>\n",
       "    <tr style=\"text-align: right;\">\n",
       "      <th></th>\n",
       "      <th>parent</th>\n",
       "      <th>title</th>\n",
       "      <th>category</th>\n",
       "    </tr>\n",
       "  </thead>\n",
       "  <tbody>\n",
       "    <tr>\n",
       "      <td>B00FALQ1ZC</td>\n",
       "      <td>937001370</td>\n",
       "      <td>Invicta Women's 15150 \"Angel\" 18k Yellow Gold ...</td>\n",
       "      <td>Watches</td>\n",
       "    </tr>\n",
       "    <tr>\n",
       "      <td>B00D3RGO20</td>\n",
       "      <td>484010722</td>\n",
       "      <td>Kenneth Cole New York Women's KC4944 Automatic...</td>\n",
       "      <td>Watches</td>\n",
       "    </tr>\n",
       "  </tbody>\n",
       "</table>\n",
       "</div>"
      ],
      "text/plain": [
       "               parent                                              title  \\\n",
       "B00FALQ1ZC  937001370  Invicta Women's 15150 \"Angel\" 18k Yellow Gold ...   \n",
       "B00D3RGO20  484010722  Kenneth Cole New York Women's KC4944 Automatic...   \n",
       "\n",
       "           category  \n",
       "B00FALQ1ZC  Watches  \n",
       "B00D3RGO20  Watches  "
      ]
     },
     "execution_count": 70,
     "metadata": {},
     "output_type": "execute_result"
    }
   ],
   "source": [
    "df.T"
   ]
  },
  {
   "cell_type": "code",
   "execution_count": 78,
   "metadata": {},
   "outputs": [],
   "source": [
    "import datetime\n",
    "from dataclasses import dataclass\n",
    "\n",
    "@dataclass\n",
    "class Product:\n",
    "    id: str\n",
    "    parent: str\n",
    "    title: str\n",
    "    category: str\n",
    "\n",
    "@dataclass\n",
    "class Review:\n",
    "    id: str\n",
    "    customer_id: str\n",
    "    stars: int\n",
    "    headline: str\n",
    "    body: str\n",
    "    date: datetime.datetime"
   ]
  },
  {
   "cell_type": "code",
   "execution_count": 80,
   "metadata": {},
   "outputs": [],
   "source": [
    "# Product fields\n",
    "PRODUCT_ID = 3\n",
    "PRODUCT_PARENT = 4\n",
    "PRODUCT_TITLE = 5\n",
    "PRODUCT_CATEGORY = 6\n",
    "\n",
    "# Review fields\n",
    "REVIEW_ID = 2\n",
    "REVIEW_CUSTOMER = 1\n",
    "REVIEW_STARS = 7\n",
    "REVIEW_HEADLINE = 12\n",
    "REVIEW_BODY = 13\n",
    "REVIEW_DATE = 14"
   ]
  },
  {
   "cell_type": "code",
   "execution_count": 85,
   "metadata": {},
   "outputs": [
    {
     "name": "stdout",
     "output_type": "stream",
     "text": [
      "Product(id='B00FALQ1ZC', parent=937001370, title='Invicta Women\\'s 15150 \"Angel\" 18k Yellow Gold Ion-Plated Stainless Steel and Brown Leather Watch', category='Watches')\n",
      "Review(id='R3O9SGZBVQBV76', customer_id=3653882, stars=5, headline='Five Stars', body='Absolutely love this watch! Get compliments almost every time I wear it. Dainty.', date=datetime.datetime(2015, 8, 31, 0, 0))\n"
     ]
    }
   ],
   "source": [
    "products = []\n",
    "reviews = []\n",
    "\n",
    "# Using the values_only because you just want to return the cell value\n",
    "for row in sheet.iter_rows(min_row=2, values_only=True):\n",
    "    product = Product(id=row[PRODUCT_ID],\n",
    "                      parent=row[PRODUCT_PARENT],\n",
    "                      title=row[PRODUCT_TITLE],\n",
    "                      category=row[PRODUCT_CATEGORY])\n",
    "    products.append(product)\n",
    "\n",
    "    # You need to parse the date from the spreadsheet into a datetime format\n",
    "    spread_date = row[REVIEW_DATE]\n",
    "    parsed_date = datetime.datetime.strptime(spread_date, \"%Y-%m-%d\")\n",
    "\n",
    "    review = Review(id=row[REVIEW_ID],\n",
    "                    customer_id=row[REVIEW_CUSTOMER],\n",
    "                    stars=row[REVIEW_STARS],\n",
    "                    headline=row[REVIEW_HEADLINE],\n",
    "                    body=row[REVIEW_BODY],\n",
    "                    date=parsed_date)\n",
    "    reviews.append(review)\n",
    "\n",
    "print(products[0])\n",
    "print(reviews[0])"
   ]
  },
  {
   "cell_type": "code",
   "execution_count": 86,
   "metadata": {},
   "outputs": [
    {
     "data": {
      "text/plain": [
       "'https://realpython.com/openpyxl-excel-spreadsheets-python/'"
      ]
     },
     "execution_count": 86,
     "metadata": {},
     "output_type": "execute_result"
    }
   ],
   "source": [
    "'https://realpython.com/openpyxl-excel-spreadsheets-python/'"
   ]
  },
  {
   "cell_type": "code",
   "execution_count": 89,
   "metadata": {},
   "outputs": [],
   "source": [
    "wb = load_workbook(filename='hello_world.xlsx')"
   ]
  },
  {
   "cell_type": "code",
   "execution_count": 137,
   "metadata": {},
   "outputs": [],
   "source": [
    "sheet.freeze_panes = 'A1'"
   ]
  },
  {
   "cell_type": "code",
   "execution_count": 128,
   "metadata": {},
   "outputs": [],
   "source": [
    "workbook.save(filename=\"reviews-sample.xlsx\")"
   ]
  },
  {
   "cell_type": "code",
   "execution_count": 131,
   "metadata": {},
   "outputs": [
    {
     "data": {
      "text/plain": [
       "'A1:O100'"
      ]
     },
     "execution_count": 131,
     "metadata": {},
     "output_type": "execute_result"
    }
   ],
   "source": [
    "sheet.dimensions"
   ]
  },
  {
   "cell_type": "code",
   "execution_count": 132,
   "metadata": {},
   "outputs": [],
   "source": [
    "sheet.auto_filter.ref = \"A1:O100\"\n",
    "workbook.save(filename=\"reviews-sample.xlsx\")"
   ]
  },
  {
   "cell_type": "code",
   "execution_count": 134,
   "metadata": {},
   "outputs": [
    {
     "data": {
      "text/plain": [
       "352"
      ]
     },
     "execution_count": 134,
     "metadata": {},
     "output_type": "execute_result"
    }
   ],
   "source": [
    "from openpyxl.utils import FORMULAE\n",
    "len(FORMULAE)"
   ]
  },
  {
   "cell_type": "code",
   "execution_count": 139,
   "metadata": {},
   "outputs": [],
   "source": [
    "sheet[\"P2\"] = \"=AVERAGE(H2:H100)\"\n",
    "sheet[\"P3\"] = '=COUNTIF(I2:I100, \">0\")'\n",
    "workbook.save(filename=\"reviews-sample.xlsx\")"
   ]
  },
  {
   "cell_type": "code",
   "execution_count": 141,
   "metadata": {},
   "outputs": [],
   "source": [
    "from openpyxl.styles import Font, Color, Alignment, Border, Side, colors"
   ]
  },
  {
   "cell_type": "code",
   "execution_count": 142,
   "metadata": {},
   "outputs": [],
   "source": [
    "# Create a few styles\n",
    "bold_font = Font(bold=True)\n",
    "big_red_text = Font(color=colors.RED, size=20)\n",
    "center_aligned_text = Alignment(horizontal=\"center\", vertical='center')\n",
    "double_border_side = Side(border_style=\"double\")\n",
    "square_border = Border(top=double_border_side,\n",
    "                        right=double_border_side,\n",
    "                        bottom=double_border_side,\n",
    "                        left=double_border_side)\n",
    "\n",
    "# Style some cells!\n",
    "sheet[\"A2\"].font = bold_font\n",
    "sheet[\"A3\"].font = big_red_text\n",
    "sheet[\"A4\"].alignment = center_aligned_text\n",
    "sheet[\"A5\"].border = square_border\n",
    "workbook.save(filename=\"sample_styles.xlsx\")"
   ]
  },
  {
   "cell_type": "code",
   "execution_count": 143,
   "metadata": {},
   "outputs": [],
   "source": [
    "from openpyxl.styles import NamedStyle"
   ]
  },
  {
   "cell_type": "code",
   "execution_count": 145,
   "metadata": {},
   "outputs": [],
   "source": [
    "header = NamedStyle(name=\"header\")\n",
    "header.font = Font(bold=True)\n",
    "header.border = Border(bottom=Side(border_style=\"thin\"))\n",
    "header.alignment = Alignment(horizontal=\"center\", vertical=\"center\")\n",
    "\n",
    "# Now let's apply this to all first row (header) cells\n",
    "header_row = sheet[1]\n",
    "for cell in header_row:\n",
    "     cell.style = header\n",
    "\n",
    "workbook.save(filename=\"sample_styles.xlsx\")"
   ]
  },
  {
   "cell_type": "code",
   "execution_count": 148,
   "metadata": {},
   "outputs": [],
   "source": [
    "from openpyxl.styles import PatternFill, colors\n",
    "from openpyxl.styles.differential import DifferentialStyle\n",
    "from openpyxl.formatting.rule import Rule\n",
    "\n",
    "red_background = PatternFill(bgColor=colors.BLUE)\n",
    "diff_style = DifferentialStyle(fill=red_background)\n",
    "rule = Rule(type=\"expression\", dxf=diff_style)\n",
    "rule.formula = [\"$H1=5\"]\n",
    "sheet.conditional_formatting.add(\"A1:O100\", rule)\n",
    "workbook.save(\"sample_styles.xlsx\")"
   ]
  },
  {
   "cell_type": "code",
   "execution_count": 149,
   "metadata": {},
   "outputs": [],
   "source": [
    "from openpyxl.formatting.rule import ColorScaleRule\n",
    "color_scale_rule = ColorScaleRule(start_type=\"min\",\n",
    "                                   start_color=colors.RED,\n",
    "                                   end_type=\"max\",\n",
    "                                   end_color=colors.GREEN)\n",
    "\n",
    "# Again, let's add this gradient to the star ratings, column \"H\"\n",
    "sheet.conditional_formatting.add(\"H2:H100\", color_scale_rule)\n",
    "workbook.save(\"sample_styles.xlsx\")"
   ]
  },
  {
   "cell_type": "code",
   "execution_count": 161,
   "metadata": {},
   "outputs": [
    {
     "name": "stdout",
     "output_type": "stream",
     "text": [
      "Requirement already satisfied: Pillow in c:\\programdata\\anaconda3\\lib\\site-packages (6.2.0)\n"
     ]
    }
   ],
   "source": [
    "!pip install Pillow"
   ]
  },
  {
   "cell_type": "code",
   "execution_count": 162,
   "metadata": {},
   "outputs": [],
   "source": [
    "from openpyxl.drawing.image import Image\n"
   ]
  },
  {
   "cell_type": "code",
   "execution_count": 152,
   "metadata": {},
   "outputs": [],
   "source": [
    "# Let's use the hello_world spreadsheet since it has less data\n",
    "wb = load_workbook(filename=\"hello_world.xlsx\")\n",
    "sheet_wb = wb.active"
   ]
  },
  {
   "cell_type": "code",
   "execution_count": 171,
   "metadata": {},
   "outputs": [],
   "source": [
    "logo = openpyxl.drawing.image.Image('lg.jpg')"
   ]
  },
  {
   "cell_type": "code",
   "execution_count": 173,
   "metadata": {},
   "outputs": [],
   "source": [
    "logo.height = 150\n",
    "logo.width = 150\n",
    "\n",
    "sheet_wb.add_image(logo, \"A3\")\n",
    "wb.save(filename=\"hello_world_logo.xlsx\")"
   ]
  },
  {
   "cell_type": "code",
   "execution_count": null,
   "metadata": {},
   "outputs": [],
   "source": []
  },
  {
   "cell_type": "code",
   "execution_count": null,
   "metadata": {},
   "outputs": [],
   "source": []
  },
  {
   "cell_type": "code",
   "execution_count": null,
   "metadata": {},
   "outputs": [],
   "source": []
  },
  {
   "cell_type": "code",
   "execution_count": null,
   "metadata": {},
   "outputs": [],
   "source": []
  },
  {
   "cell_type": "code",
   "execution_count": null,
   "metadata": {},
   "outputs": [],
   "source": []
  },
  {
   "cell_type": "code",
   "execution_count": null,
   "metadata": {},
   "outputs": [],
   "source": []
  },
  {
   "cell_type": "code",
   "execution_count": null,
   "metadata": {},
   "outputs": [],
   "source": []
  },
  {
   "cell_type": "code",
   "execution_count": null,
   "metadata": {},
   "outputs": [],
   "source": []
  },
  {
   "cell_type": "code",
   "execution_count": null,
   "metadata": {},
   "outputs": [],
   "source": []
  },
  {
   "cell_type": "code",
   "execution_count": null,
   "metadata": {},
   "outputs": [],
   "source": []
  },
  {
   "cell_type": "code",
   "execution_count": null,
   "metadata": {},
   "outputs": [],
   "source": []
  },
  {
   "cell_type": "code",
   "execution_count": null,
   "metadata": {},
   "outputs": [],
   "source": []
  },
  {
   "cell_type": "code",
   "execution_count": null,
   "metadata": {},
   "outputs": [],
   "source": []
  },
  {
   "cell_type": "code",
   "execution_count": null,
   "metadata": {},
   "outputs": [],
   "source": []
  },
  {
   "cell_type": "code",
   "execution_count": null,
   "metadata": {},
   "outputs": [],
   "source": []
  }
 ],
 "metadata": {
  "kernelspec": {
   "display_name": "Python 3",
   "language": "python",
   "name": "python3"
  },
  "language_info": {
   "codemirror_mode": {
    "name": "ipython",
    "version": 3
   },
   "file_extension": ".py",
   "mimetype": "text/x-python",
   "name": "python",
   "nbconvert_exporter": "python",
   "pygments_lexer": "ipython3",
   "version": "3.7.4"
  }
 },
 "nbformat": 4,
 "nbformat_minor": 4
}
