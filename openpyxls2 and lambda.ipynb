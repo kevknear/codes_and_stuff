{
 "cells": [
  {
   "cell_type": "code",
   "execution_count": 3,
   "metadata": {},
   "outputs": [],
   "source": [
    "import pandas as pd\n",
    "import numpy as np\n",
    "import matplotlib.pyplot as plt\n",
    "\n",
    "%matplotlib inline"
   ]
  },
  {
   "cell_type": "code",
   "execution_count": 22,
   "metadata": {},
   "outputs": [],
   "source": [
    "def suma_l(x):\n",
    "    return x"
   ]
  },
  {
   "cell_type": "code",
   "execution_count": 21,
   "metadata": {},
   "outputs": [],
   "source": [
    "lst = [1,2,3,4,5,6]"
   ]
  },
  {
   "cell_type": "code",
   "execution_count": 18,
   "metadata": {},
   "outputs": [],
   "source": [
    "lst2 = [[1,2],[2,3]]"
   ]
  },
  {
   "cell_type": "code",
   "execution_count": null,
   "metadata": {},
   "outputs": [],
   "source": []
  },
  {
   "cell_type": "code",
   "execution_count": null,
   "metadata": {},
   "outputs": [],
   "source": []
  },
  {
   "cell_type": "code",
   "execution_count": 25,
   "metadata": {},
   "outputs": [],
   "source": [
    "t = list(map(suma_l, lst2))"
   ]
  },
  {
   "cell_type": "code",
   "execution_count": 33,
   "metadata": {},
   "outputs": [],
   "source": [
    "t = list(map(lambda x: x+2, lst))"
   ]
  },
  {
   "cell_type": "code",
   "execution_count": 34,
   "metadata": {},
   "outputs": [
    {
     "data": {
      "text/plain": [
       "[3, 4, 5, 6, 7, 8]"
      ]
     },
     "execution_count": 34,
     "metadata": {},
     "output_type": "execute_result"
    }
   ],
   "source": [
    "t"
   ]
  },
  {
   "cell_type": "code",
   "execution_count": 35,
   "metadata": {},
   "outputs": [
    {
     "ename": "SyntaxError",
     "evalue": "invalid syntax (<ipython-input-35-5ab47423a93a>, line 1)",
     "output_type": "error",
     "traceback": [
      "\u001b[1;36m  File \u001b[1;32m\"<ipython-input-35-5ab47423a93a>\"\u001b[1;36m, line \u001b[1;32m1\u001b[0m\n\u001b[1;33m    lambda x: x+2 for i in lst\u001b[0m\n\u001b[1;37m                    ^\u001b[0m\n\u001b[1;31mSyntaxError\u001b[0m\u001b[1;31m:\u001b[0m invalid syntax\n"
     ]
    }
   ],
   "source": [
    "lambda x: x+2 for i in lst"
   ]
  },
  {
   "cell_type": "code",
   "execution_count": 36,
   "metadata": {},
   "outputs": [
    {
     "name": "stdout",
     "output_type": "stream",
     "text": [
      " El volumen de la unidad C es OS\n",
      " El número de serie del volumen es: 44D8-86CA\n",
      "\n",
      " Directorio de C:\\Users\\KNEAR\\Downloads\\datos_municipales_mx-master\\datos_municipales_mx-master\\datos\n",
      "\n",
      "12/01/2020  09:19 p. m.    <DIR>          .\n",
      "12/01/2020  09:19 p. m.    <DIR>          ..\n",
      "12/01/2020  06:21 p. m.    <DIR>          .ipynb_checkpoints\n",
      "01/01/2020  06:49 p. m.        44,086,272 CPdescarga.xls\n",
      "12/01/2020  06:15 p. m.            17,234 cube.png\n",
      "12/01/2020  03:19 p. m.             4,594 hello_world.xlsx\n",
      "12/01/2020  06:20 p. m.            30,277 hello_world_logo.xlsx\n",
      "01/01/2020  06:49 p. m.         2,451,451 Indicadores_municipales_sabana_DA.csv\n",
      "03/04/2019  09:50 a. m.            24,790 lg.jpg\n",
      "12/01/2020  06:05 p. m.            26,940 logo.png\n",
      "01/01/2020  06:49 p. m.         8,606,126 mx_postal_codes.csv\n",
      "12/01/2020  05:44 p. m.            50,459 reviews-sample.xlsx\n",
      "12/01/2020  06:06 p. m.            41,903 sample_styles.xlsx\n",
      "01/01/2020  06:49 p. m.           476,945 siha_2_2_4_1_agosto_2016.xlsx\n",
      "01/01/2020  06:49 p. m.           180,321 siha_2_2_4_2.xlsx\n",
      "01/01/2020  06:49 p. m.           288,473 siha_2_2_4_3.xlsx\n",
      "01/01/2020  06:49 p. m.           541,950 siha_2_2_4_4.xlsx\n",
      "01/01/2020  06:49 p. m.           194,252 siha_2_2_4_5.xlsx\n",
      "01/01/2020  06:49 p. m.           174,997 siha_2_2_4_6.xlsx\n",
      "01/01/2020  06:49 p. m.           888,823 siha_2_2_4_8.xlsx\n",
      "01/01/2020  06:49 p. m.           152,027 siha_2_2_4_9_dic_2015.xlsx\n",
      "01/01/2020  06:49 p. m.         1,846,033 siha_2_2_5.xlsx\n",
      "12/01/2020  06:21 p. m.            24,987 Untitled.ipynb\n",
      "12/01/2020  09:19 p. m.             3,560 Untitled1.ipynb\n",
      "              21 archivos     60,112,414 bytes\n",
      "               3 dirs  870,170,583,040 bytes libres\n"
     ]
    }
   ],
   "source": [
    "ls"
   ]
  },
  {
   "cell_type": "code",
   "execution_count": 40,
   "metadata": {},
   "outputs": [],
   "source": [
    "from openpyxl import load_workbook\n",
    "workbook = load_workbook(filename=\"reviews-sample.xlsx\")"
   ]
  },
  {
   "cell_type": "code",
   "execution_count": 44,
   "metadata": {},
   "outputs": [],
   "source": [
    "sheet = workbook['amazon_reviews_us_Watches_v (2)']"
   ]
  },
  {
   "cell_type": "code",
   "execution_count": 45,
   "metadata": {},
   "outputs": [
    {
     "data": {
      "text/plain": [
       "<Worksheet \"amazon_reviews_us_Watches_v (2)\">"
      ]
     },
     "execution_count": 45,
     "metadata": {},
     "output_type": "execute_result"
    }
   ],
   "source": [
    "sheet"
   ]
  },
  {
   "cell_type": "code",
   "execution_count": 46,
   "metadata": {},
   "outputs": [
    {
     "data": {
      "text/plain": [
       "<Worksheet \"test\">"
      ]
     },
     "execution_count": 46,
     "metadata": {},
     "output_type": "execute_result"
    }
   ],
   "source": [
    "workbook.create_sheet('test')"
   ]
  },
  {
   "cell_type": "code",
   "execution_count": 47,
   "metadata": {},
   "outputs": [
    {
     "data": {
      "text/plain": [
       "['amazon_reviews_us_Watches_v (2)', 'amazon', 'test']"
      ]
     },
     "execution_count": 47,
     "metadata": {},
     "output_type": "execute_result"
    }
   ],
   "source": [
    "workbook.sheetnames"
   ]
  },
  {
   "cell_type": "code",
   "execution_count": 48,
   "metadata": {},
   "outputs": [],
   "source": [
    "workbook.save(filename=\"reviews-sample.xlsx\")"
   ]
  },
  {
   "cell_type": "code",
   "execution_count": 49,
   "metadata": {},
   "outputs": [
    {
     "data": {
      "text/plain": [
       "'A1:O100'"
      ]
     },
     "execution_count": 49,
     "metadata": {},
     "output_type": "execute_result"
    }
   ],
   "source": [
    "sheet.dimensions"
   ]
  },
  {
   "cell_type": "code",
   "execution_count": 89,
   "metadata": {},
   "outputs": [],
   "source": [
    "df = pd.DataFrame(sheet.values)"
   ]
  },
  {
   "cell_type": "code",
   "execution_count": 90,
   "metadata": {},
   "outputs": [
    {
     "data": {
      "text/html": [
       "<div>\n",
       "<style scoped>\n",
       "    .dataframe tbody tr th:only-of-type {\n",
       "        vertical-align: middle;\n",
       "    }\n",
       "\n",
       "    .dataframe tbody tr th {\n",
       "        vertical-align: top;\n",
       "    }\n",
       "\n",
       "    .dataframe thead th {\n",
       "        text-align: right;\n",
       "    }\n",
       "</style>\n",
       "<table border=\"1\" class=\"dataframe\">\n",
       "  <thead>\n",
       "    <tr style=\"text-align: right;\">\n",
       "      <th></th>\n",
       "      <th>0</th>\n",
       "      <th>1</th>\n",
       "      <th>2</th>\n",
       "      <th>3</th>\n",
       "      <th>4</th>\n",
       "      <th>5</th>\n",
       "      <th>6</th>\n",
       "      <th>7</th>\n",
       "      <th>8</th>\n",
       "      <th>9</th>\n",
       "      <th>10</th>\n",
       "      <th>11</th>\n",
       "      <th>12</th>\n",
       "      <th>13</th>\n",
       "      <th>14</th>\n",
       "    </tr>\n",
       "  </thead>\n",
       "  <tbody>\n",
       "    <tr>\n",
       "      <td>0</td>\n",
       "      <td>marketplace</td>\n",
       "      <td>customer_id</td>\n",
       "      <td>review_id</td>\n",
       "      <td>product_id</td>\n",
       "      <td>product_parent</td>\n",
       "      <td>product_title</td>\n",
       "      <td>product_category</td>\n",
       "      <td>star_rating</td>\n",
       "      <td>helpful_votes</td>\n",
       "      <td>total_votes</td>\n",
       "      <td>vine</td>\n",
       "      <td>verified_purchase</td>\n",
       "      <td>review_headline</td>\n",
       "      <td>review_body</td>\n",
       "      <td>review_date</td>\n",
       "    </tr>\n",
       "  </tbody>\n",
       "</table>\n",
       "</div>"
      ],
      "text/plain": [
       "             0            1          2           3               4  \\\n",
       "0  marketplace  customer_id  review_id  product_id  product_parent   \n",
       "\n",
       "               5                 6            7              8            9  \\\n",
       "0  product_title  product_category  star_rating  helpful_votes  total_votes   \n",
       "\n",
       "     10                 11               12           13           14  \n",
       "0  vine  verified_purchase  review_headline  review_body  review_date  "
      ]
     },
     "execution_count": 90,
     "metadata": {},
     "output_type": "execute_result"
    }
   ],
   "source": [
    "df.head(1)"
   ]
  },
  {
   "cell_type": "code",
   "execution_count": 91,
   "metadata": {},
   "outputs": [],
   "source": [
    "df.columns = df.iloc[0] # Set first row as column names\n",
    "df.drop(df.index[0], inplace=True) # Drop the first row\n",
    "df.reset_index(drop=True, inplace=True) # Reset index to cero"
   ]
  },
  {
   "cell_type": "code",
   "execution_count": 93,
   "metadata": {},
   "outputs": [],
   "source": [
    "sheet2 = workbook['test']"
   ]
  },
  {
   "cell_type": "code",
   "execution_count": 94,
   "metadata": {},
   "outputs": [],
   "source": [
    "from openpyxl.utils.dataframe import dataframe_to_rows\n",
    "rows = dataframe_to_rows(df)\n",
    "\n",
    "for r_idx, row in enumerate(rows, 1):\n",
    "    for c_idx, value in enumerate(row, 1):\n",
    "         sheet2.cell(row=r_idx, column=c_idx, value=value)"
   ]
  },
  {
   "cell_type": "code",
   "execution_count": 95,
   "metadata": {},
   "outputs": [],
   "source": [
    "workbook.save(filename=\"reviews-sample.xlsx\")"
   ]
  },
  {
   "cell_type": "code",
   "execution_count": 100,
   "metadata": {},
   "outputs": [
    {
     "data": {
      "text/plain": [
       "Index(['marketplace', 'customer_id', 'review_id', 'product_id',\n",
       "       'product_parent', 'product_title', 'product_category', 'star_rating',\n",
       "       'helpful_votes', 'total_votes', 'vine', 'verified_purchase',\n",
       "       'review_headline', 'review_body', 'review_date'],\n",
       "      dtype='object', name=0)"
      ]
     },
     "execution_count": 100,
     "metadata": {},
     "output_type": "execute_result"
    }
   ],
   "source": [
    "df.columns"
   ]
  },
  {
   "cell_type": "code",
   "execution_count": null,
   "metadata": {},
   "outputs": [],
   "source": []
  },
  {
   "cell_type": "code",
   "execution_count": null,
   "metadata": {},
   "outputs": [],
   "source": []
  },
  {
   "cell_type": "code",
   "execution_count": null,
   "metadata": {},
   "outputs": [],
   "source": []
  },
  {
   "cell_type": "code",
   "execution_count": null,
   "metadata": {},
   "outputs": [],
   "source": []
  },
  {
   "cell_type": "code",
   "execution_count": 125,
   "metadata": {},
   "outputs": [],
   "source": [
    "############################################################3"
   ]
  },
  {
   "cell_type": "code",
   "execution_count": 101,
   "metadata": {},
   "outputs": [],
   "source": [
    "from openpyxl import load_workbook\n",
    "wb = load_workbook(filename=\"siha_2_2_4_2.xlsx\")"
   ]
  },
  {
   "cell_type": "code",
   "execution_count": 102,
   "metadata": {},
   "outputs": [
    {
     "data": {
      "text/plain": [
       "['2012']"
      ]
     },
     "execution_count": 102,
     "metadata": {},
     "output_type": "execute_result"
    }
   ],
   "source": [
    "wb.sheetnames"
   ]
  },
  {
   "cell_type": "code",
   "execution_count": 103,
   "metadata": {},
   "outputs": [],
   "source": [
    "sh = wb['2012']"
   ]
  },
  {
   "cell_type": "code",
   "execution_count": 105,
   "metadata": {},
   "outputs": [
    {
     "data": {
      "text/plain": [
       "'A2:I2466'"
      ]
     },
     "execution_count": 105,
     "metadata": {},
     "output_type": "execute_result"
    }
   ],
   "source": [
    "sh.dimensions"
   ]
  },
  {
   "cell_type": "code",
   "execution_count": null,
   "metadata": {},
   "outputs": [],
   "source": [
    "a4, i4\n",
    "a2461 i2461"
   ]
  },
  {
   "cell_type": "code",
   "execution_count": 118,
   "metadata": {},
   "outputs": [],
   "source": [
    "ls_df = []\n",
    "for row in sh.iter_rows(min_row=4,\n",
    "                            max_row=2461,\n",
    "                            min_col=1,\n",
    "                            max_col=7,\n",
    "                          values_only=True):\n",
    "    \n",
    "    ls_df.append(row)\n"
   ]
  },
  {
   "cell_type": "code",
   "execution_count": 120,
   "metadata": {},
   "outputs": [],
   "source": [
    "# https://www.geeksforgeeks.org/creating-a-pandas-dataframe-using-list-of-tuples/"
   ]
  },
  {
   "cell_type": "code",
   "execution_count": 121,
   "metadata": {},
   "outputs": [],
   "source": [
    "df2 = pd.DataFrame.from_records(ls_df, columns =['Clave',\n",
    "  'Estado',\n",
    "  'Municipio',\n",
    "  'Planteles',\n",
    "  'Aulas',\n",
    "  'Bibliotecas',\n",
    "  'Laboratorios']) \n"
   ]
  },
  {
   "cell_type": "code",
   "execution_count": 123,
   "metadata": {},
   "outputs": [],
   "source": [
    "df2.drop(df2.index[0], inplace=True)"
   ]
  },
  {
   "cell_type": "code",
   "execution_count": 124,
   "metadata": {},
   "outputs": [
    {
     "data": {
      "text/html": [
       "<div>\n",
       "<style scoped>\n",
       "    .dataframe tbody tr th:only-of-type {\n",
       "        vertical-align: middle;\n",
       "    }\n",
       "\n",
       "    .dataframe tbody tr th {\n",
       "        vertical-align: top;\n",
       "    }\n",
       "\n",
       "    .dataframe thead th {\n",
       "        text-align: right;\n",
       "    }\n",
       "</style>\n",
       "<table border=\"1\" class=\"dataframe\">\n",
       "  <thead>\n",
       "    <tr style=\"text-align: right;\">\n",
       "      <th></th>\n",
       "      <th>Clave</th>\n",
       "      <th>Estado</th>\n",
       "      <th>Municipio</th>\n",
       "      <th>Planteles</th>\n",
       "      <th>Aulas</th>\n",
       "      <th>Bibliotecas</th>\n",
       "      <th>Laboratorios</th>\n",
       "    </tr>\n",
       "  </thead>\n",
       "  <tbody>\n",
       "    <tr>\n",
       "      <td>1</td>\n",
       "      <td>01001</td>\n",
       "      <td>Aguascalientes</td>\n",
       "      <td>Aguascalientes</td>\n",
       "      <td>635</td>\n",
       "      <td>6019</td>\n",
       "      <td>208</td>\n",
       "      <td>347</td>\n",
       "    </tr>\n",
       "    <tr>\n",
       "      <td>2</td>\n",
       "      <td>01002</td>\n",
       "      <td>Aguascalientes</td>\n",
       "      <td>Asientos</td>\n",
       "      <td>111</td>\n",
       "      <td>501</td>\n",
       "      <td>10</td>\n",
       "      <td>33</td>\n",
       "    </tr>\n",
       "    <tr>\n",
       "      <td>3</td>\n",
       "      <td>01003</td>\n",
       "      <td>Aguascalientes</td>\n",
       "      <td>Calvillo</td>\n",
       "      <td>82</td>\n",
       "      <td>513</td>\n",
       "      <td>13</td>\n",
       "      <td>36</td>\n",
       "    </tr>\n",
       "    <tr>\n",
       "      <td>4</td>\n",
       "      <td>01004</td>\n",
       "      <td>Aguascalientes</td>\n",
       "      <td>Cosío</td>\n",
       "      <td>28</td>\n",
       "      <td>167</td>\n",
       "      <td>5</td>\n",
       "      <td>12</td>\n",
       "    </tr>\n",
       "    <tr>\n",
       "      <td>5</td>\n",
       "      <td>01005</td>\n",
       "      <td>Aguascalientes</td>\n",
       "      <td>Jesús María</td>\n",
       "      <td>104</td>\n",
       "      <td>656</td>\n",
       "      <td>22</td>\n",
       "      <td>22</td>\n",
       "    </tr>\n",
       "    <tr>\n",
       "      <td>...</td>\n",
       "      <td>...</td>\n",
       "      <td>...</td>\n",
       "      <td>...</td>\n",
       "      <td>...</td>\n",
       "      <td>...</td>\n",
       "      <td>...</td>\n",
       "      <td>...</td>\n",
       "    </tr>\n",
       "    <tr>\n",
       "      <td>2453</td>\n",
       "      <td>32054</td>\n",
       "      <td>Zacatecas</td>\n",
       "      <td>Villa Hidalgo</td>\n",
       "      <td>90</td>\n",
       "      <td>327</td>\n",
       "      <td>10</td>\n",
       "      <td>5</td>\n",
       "    </tr>\n",
       "    <tr>\n",
       "      <td>2454</td>\n",
       "      <td>32055</td>\n",
       "      <td>Zacatecas</td>\n",
       "      <td>Villanueva</td>\n",
       "      <td>151</td>\n",
       "      <td>631</td>\n",
       "      <td>16</td>\n",
       "      <td>11</td>\n",
       "    </tr>\n",
       "    <tr>\n",
       "      <td>2455</td>\n",
       "      <td>32056</td>\n",
       "      <td>Zacatecas</td>\n",
       "      <td>Zacatecas</td>\n",
       "      <td>227</td>\n",
       "      <td>1867</td>\n",
       "      <td>91</td>\n",
       "      <td>168</td>\n",
       "    </tr>\n",
       "    <tr>\n",
       "      <td>2456</td>\n",
       "      <td>32057</td>\n",
       "      <td>Zacatecas</td>\n",
       "      <td>Trancoso</td>\n",
       "      <td>37</td>\n",
       "      <td>202</td>\n",
       "      <td>6</td>\n",
       "      <td>2</td>\n",
       "    </tr>\n",
       "    <tr>\n",
       "      <td>2457</td>\n",
       "      <td>32058</td>\n",
       "      <td>Zacatecas</td>\n",
       "      <td>Santa María de la Paz</td>\n",
       "      <td>22</td>\n",
       "      <td>52</td>\n",
       "      <td>0</td>\n",
       "      <td>2</td>\n",
       "    </tr>\n",
       "  </tbody>\n",
       "</table>\n",
       "<p>2457 rows × 7 columns</p>\n",
       "</div>"
      ],
      "text/plain": [
       "      Clave          Estado              Municipio Planteles Aulas  \\\n",
       "1     01001  Aguascalientes         Aguascalientes       635  6019   \n",
       "2     01002  Aguascalientes               Asientos       111   501   \n",
       "3     01003  Aguascalientes               Calvillo        82   513   \n",
       "4     01004  Aguascalientes                  Cosío        28   167   \n",
       "5     01005  Aguascalientes            Jesús María       104   656   \n",
       "...     ...             ...                    ...       ...   ...   \n",
       "2453  32054       Zacatecas          Villa Hidalgo        90   327   \n",
       "2454  32055       Zacatecas             Villanueva       151   631   \n",
       "2455  32056       Zacatecas              Zacatecas       227  1867   \n",
       "2456  32057       Zacatecas               Trancoso        37   202   \n",
       "2457  32058       Zacatecas  Santa María de la Paz        22    52   \n",
       "\n",
       "     Bibliotecas Laboratorios  \n",
       "1            208          347  \n",
       "2             10           33  \n",
       "3             13           36  \n",
       "4              5           12  \n",
       "5             22           22  \n",
       "...          ...          ...  \n",
       "2453          10            5  \n",
       "2454          16           11  \n",
       "2455          91          168  \n",
       "2456           6            2  \n",
       "2457           0            2  \n",
       "\n",
       "[2457 rows x 7 columns]"
      ]
     },
     "execution_count": 124,
     "metadata": {},
     "output_type": "execute_result"
    }
   ],
   "source": [
    "df2"
   ]
  },
  {
   "cell_type": "code",
   "execution_count": 126,
   "metadata": {},
   "outputs": [
    {
     "data": {
      "text/plain": [
       "<Worksheet \"test2\">"
      ]
     },
     "execution_count": 126,
     "metadata": {},
     "output_type": "execute_result"
    }
   ],
   "source": [
    "wb.create_sheet('test2')"
   ]
  },
  {
   "cell_type": "code",
   "execution_count": 127,
   "metadata": {},
   "outputs": [],
   "source": [
    "sh2 =wb['test2']"
   ]
  },
  {
   "cell_type": "code",
   "execution_count": 129,
   "metadata": {},
   "outputs": [],
   "source": [
    "from openpyxl.utils.dataframe import dataframe_to_rows\n",
    "rows2 = dataframe_to_rows(df2)\n",
    "\n",
    "for r_idx, row in enumerate(rows2, 1):\n",
    "    for c_idx, value in enumerate(row, 1):\n",
    "         sh2.cell(row=r_idx, column=c_idx, value=value)"
   ]
  },
  {
   "cell_type": "code",
   "execution_count": 130,
   "metadata": {},
   "outputs": [],
   "source": [
    "wb.save('siha_2_2_4_2.xlsx')"
   ]
  },
  {
   "cell_type": "code",
   "execution_count": 131,
   "metadata": {},
   "outputs": [
    {
     "name": "stdout",
     "output_type": "stream",
     "text": [
      "22\n",
      "33\n"
     ]
    }
   ],
   "source": [
    "def myfunc(n):\n",
    "  return lambda a : a * n\n",
    "\n",
    "mydoubler = myfunc(2)\n",
    "mytripler = myfunc(3)\n",
    "\n",
    "print(mydoubler(11))\n",
    "print(mytripler(11))"
   ]
  },
  {
   "cell_type": "code",
   "execution_count": 140,
   "metadata": {},
   "outputs": [
    {
     "name": "stdout",
     "output_type": "stream",
     "text": [
      "[4, 6, 8, 12]\n",
      "[3, 7, 6, 8, 10, 13, 5, 14]\n"
     ]
    }
   ],
   "source": [
    "my_list = [1, 5, 4, 6, 8, 11, 3, 12]\n",
    "\n",
    "new_list = list(filter(lambda x: (x%2 == 0) , my_list)) # filtra los valores que son even numbers de la lista ingresada con una condicion\n",
    "new_list2 = list(map(lambda x: x+2 , my_list)) # mapea cada valor de la lista para regresar un valor booleano o bien en este caso hacer una operación\n",
    "# Output: [4, 6, 8, 12]\n",
    "print(new_list)\n",
    "print(new_list2)"
   ]
  }
 ],
 "metadata": {
  "kernelspec": {
   "display_name": "Python 3",
   "language": "python",
   "name": "python3"
  },
  "language_info": {
   "codemirror_mode": {
    "name": "ipython",
    "version": 3
   },
   "file_extension": ".py",
   "mimetype": "text/x-python",
   "name": "python",
   "nbconvert_exporter": "python",
   "pygments_lexer": "ipython3",
   "version": "3.7.4"
  }
 },
 "nbformat": 4,
 "nbformat_minor": 4
}
